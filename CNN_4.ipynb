{
  "nbformat": 4,
  "nbformat_minor": 0,
  "metadata": {
    "colab": {
      "provenance": [],
      "authorship_tag": "ABX9TyN1wpQWeTs8AmTMrg4UxvVc",
      "include_colab_link": true
    },
    "kernelspec": {
      "name": "python3",
      "display_name": "Python 3"
    },
    "language_info": {
      "name": "python"
    }
  },
  "cells": [
    {
      "cell_type": "markdown",
      "metadata": {
        "id": "view-in-github",
        "colab_type": "text"
      },
      "source": [
        "<a href=\"https://colab.research.google.com/github/amitkhamkar22/Learning/blob/main/CNN_4.ipynb\" target=\"_parent\"><img src=\"https://colab.research.google.com/assets/colab-badge.svg\" alt=\"Open In Colab\"/></a>"
      ]
    },
    {
      "cell_type": "markdown",
      "source": [
        "####Import dataset"
      ],
      "metadata": {
        "id": "DRNigmWYxNe_"
      }
    },
    {
      "cell_type": "code",
      "source": [
        "import tensorflow as tf\n",
        "from tensorflow import keras\n",
        "from tensorflow.keras import layers\n",
        "from tensorflow.keras.datasets import cifar10\n",
        "import matplotlib.pyplot as plt"
      ],
      "metadata": {
        "id": "qOqqm8OYvfSb"
      },
      "execution_count": null,
      "outputs": []
    },
    {
      "cell_type": "markdown",
      "source": [
        "#Convolutional Neural Network"
      ],
      "metadata": {
        "id": "HOnt-Q1hvNmu"
      }
    },
    {
      "cell_type": "markdown",
      "source": [
        "####Load dataset"
      ],
      "metadata": {
        "id": "wJJ1OJlOxSDt"
      }
    },
    {
      "cell_type": "code",
      "source": [
        "(x_train, y_train), (x_test, y_test) = cifar10.load_data()"
      ],
      "metadata": {
        "id": "Fu5h4jSsv43r"
      },
      "execution_count": null,
      "outputs": []
    },
    {
      "cell_type": "code",
      "source": [
        "print(\"x_train_shape\", x_train.shape, \"x_test_shape\", x_test.shape)\n",
        "print(\"y_train_shape\", y_train.shape, \"y_test_shape\", y_test.shape)"
      ],
      "metadata": {
        "colab": {
          "base_uri": "https://localhost:8080/"
        },
        "id": "q025XX2bx3T3",
        "outputId": "845b1275-cff5-4660-b466-19fbed96deff"
      },
      "execution_count": null,
      "outputs": [
        {
          "output_type": "stream",
          "name": "stdout",
          "text": [
            "x_train_shape (50000, 32, 32, 3) x_test_shape (10000, 32, 32, 3)\n",
            "y_train_shape (50000, 1) y_test_shape (10000, 1)\n"
          ]
        }
      ]
    },
    {
      "cell_type": "code",
      "source": [
        "#input image number 'i'\n",
        "i = 57\n",
        "plt.imshow(x_train[i])\n",
        "plt.title(y_train[i])"
      ],
      "metadata": {
        "colab": {
          "base_uri": "https://localhost:8080/",
          "height": 469
        },
        "id": "K2L7vlXsyFIT",
        "outputId": "cf4f24c9-ef78-454a-dd4a-352c453f68d7"
      },
      "execution_count": null,
      "outputs": [
        {
          "output_type": "execute_result",
          "data": {
            "text/plain": [
              "Text(0.5, 1.0, '[2]')"
            ]
          },
          "metadata": {},
          "execution_count": 20
        },
        {
          "output_type": "display_data",
          "data": {
            "text/plain": [
              "<Figure size 640x480 with 1 Axes>"
            ],
            "image/png": "[encoded data removed]"
          },
          "metadata": {}
        }
      ]
    },
    {
      "cell_type": "markdown",
      "source": [
        "####Data normalization"
      ],
      "metadata": {
        "id": "QdVisdRE6oex"
      }
    },
    {
      "cell_type": "code",
      "source": [
        "x_train = x_train.astype (\"float32\")/255\n",
        "x_test = x_test.astype (\"float32\")/255"
      ],
      "metadata": {
        "id": "mxSkCljMykUZ"
      },
      "execution_count": null,
      "outputs": []
    },
    {
      "cell_type": "markdown",
      "source": [
        "##Model"
      ],
      "metadata": {
        "id": "V3KgQe7O7ktq"
      }
    },
    {
      "cell_type": "code",
      "source": [
        "model = keras.Sequential(\n",
        "    [\n",
        "        keras.Input(shape = (32,32,3)),\n",
        "        layers.Conv2D(32, 3, padding = 'valid', activation = 'relu'),\n",
        "        layers.MaxPooling2D(pool_size = (2,2)),\n",
        "        layers.Conv2D(64, 3, padding = 'valid', activation = 'relu'),\n",
        "        layers.MaxPooling2D(pool_size = (2,2)),\n",
        "        layers.Conv2D(128, 3, activation = 'relu'),\n",
        "        layers.Flatten(),\n",
        "        layers.Dense(64, activation = 'relu'),\n",
        "        layers.Dense(10)\n",
        "    ]\n",
        ")"
      ],
      "metadata": {
        "id": "Mo1ItyVk7giI"
      },
      "execution_count": null,
      "outputs": []
    },
    {
      "cell_type": "code",
      "source": [
        "print(model.summary())"
      ],
      "metadata": {
        "colab": {
          "base_uri": "https://localhost:8080/"
        },
        "id": "GMvtJXKX7rtR",
        "outputId": "fa43a14f-9a76-4c2a-e1e6-72edceda2764"
      },
      "execution_count": null,
      "outputs": [
        {
          "output_type": "stream",
          "name": "stdout",
          "text": [
            "Model: \"sequential_2\"\n",
            "_________________________________________________________________\n",
            " Layer (type)                Output Shape              Param #   \n",
            "=================================================================\n",
            " conv2d_1 (Conv2D)           (None, 30, 30, 32)        896       \n",
            "                                                                 \n",
            " max_pooling2d_1 (MaxPooling  (None, 15, 15, 32)       0         \n",
            " 2D)                                                             \n",
            "                                                                 \n",
            " conv2d_2 (Conv2D)           (None, 13, 13, 64)        18496     \n",
            "                                                                 \n",
            " max_pooling2d_2 (MaxPooling  (None, 6, 6, 64)         0         \n",
            " 2D)                                                             \n",
            "                                                                 \n",
            " conv2d_3 (Conv2D)           (None, 4, 4, 128)         73856     \n",
            "                                                                 \n",
            " flatten (Flatten)           (None, 2048)              0         \n",
            "                                                                 \n",
            " dense (Dense)               (None, 64)                131136    \n",
            "                                                                 \n",
            " dense_1 (Dense)             (None, 10)                650       \n",
            "                                                                 \n",
            "=================================================================\n",
            "Total params: 225,034\n",
            "Trainable params: 225,034\n",
            "Non-trainable params: 0\n",
            "_________________________________________________________________\n",
            "None\n"
          ]
        }
      ]
    },
    {
      "cell_type": "markdown",
      "source": [
        "#Compile"
      ],
      "metadata": {
        "id": "TQ58mDknBMic"
      }
    },
    {
      "cell_type": "code",
      "source": [
        "from keras.engine.training import optimizer\n",
        "model.compile(\n",
        "    loss = keras.losses.SparseCategoricalCrossentropy(from_logits = True),\n",
        "    optimizer = keras.optimizers.Adam(learning_rate = 0.001),\n",
        "    metrics = [\"accuracy\"]\n",
        "\n",
        ")"
      ],
      "metadata": {
        "id": "NeZAdKCK8yme"
      },
      "execution_count": null,
      "outputs": []
    },
    {
      "cell_type": "markdown",
      "source": [
        "#Model fit"
      ],
      "metadata": {
        "id": "ukrWDpzlCEDU"
      }
    },
    {
      "cell_type": "code",
      "source": [
        "model.fit(x_train, y_train, batch_size=64, epochs=10, verbose= 2)\n",
        "model.evaluate(x_test, y_test, batch_size=64, verbose= 2)"
      ],
      "metadata": {
        "colab": {
          "base_uri": "https://localhost:8080/"
        },
        "id": "ScfQNlKgB7Jc",
        "outputId": "c8d4d1c9-1925-4045-f5d4-e158a2ccedc5"
      },
      "execution_count": null,
      "outputs": [
        {
          "output_type": "stream",
          "name": "stdout",
          "text": [
            "Epoch 1/10\n",
            "782/782 - 67s - loss: 1.5434 - accuracy: 0.4367 - 67s/epoch - 85ms/step\n",
            "Epoch 2/10\n",
            "782/782 - 67s - loss: 1.1555 - accuracy: 0.5904 - 67s/epoch - 85ms/step\n",
            "Epoch 3/10\n",
            "782/782 - 65s - loss: 0.9923 - accuracy: 0.6509 - 65s/epoch - 83ms/step\n",
            "Epoch 4/10\n",
            "782/782 - 65s - loss: 0.8798 - accuracy: 0.6939 - 65s/epoch - 83ms/step\n",
            "Epoch 5/10\n",
            "782/782 - 65s - loss: 0.7958 - accuracy: 0.7234 - 65s/epoch - 82ms/step\n",
            "Epoch 6/10\n",
            "782/782 - 65s - loss: 0.7189 - accuracy: 0.7509 - 65s/epoch - 83ms/step\n",
            "Epoch 7/10\n",
            "782/782 - 65s - loss: 0.6588 - accuracy: 0.7685 - 65s/epoch - 83ms/step\n",
            "Epoch 8/10\n",
            "782/782 - 65s - loss: 0.6079 - accuracy: 0.7856 - 65s/epoch - 83ms/step\n",
            "Epoch 9/10\n",
            "782/782 - 64s - loss: 0.5500 - accuracy: 0.8081 - 64s/epoch - 82ms/step\n",
            "Epoch 10/10\n",
            "782/782 - 64s - loss: 0.5050 - accuracy: 0.8226 - 64s/epoch - 82ms/step\n",
            "157/157 - 3s - loss: 0.8608 - accuracy: 0.7210 - 3s/epoch - 22ms/step\n"
          ]
        },
        {
          "output_type": "execute_result",
          "data": {
            "text/plain": [
              "[0.8608159422874451, 0.7210000157356262]"
            ]
          },
          "metadata": {},
          "execution_count": 31
        }
      ]
    },
    {
      "cell_type": "markdown",
      "source": [
        "#model as a function"
      ],
      "metadata": {
        "id": "xB0HuS6RHm7d"
      }
    },
    {
      "cell_type": "code",
      "source": [
        " from keras.layers import Flatten\n",
        "\n",
        "def my_model():\n",
        "  inputs = keras.Input(shape = (32,32,3))\n",
        "  x = layers.Conv2D(32, 3)(inputs)\n",
        "  x = layers.BatchNormalization()(x)\n",
        "  x = keras.activations.relu(x)\n",
        "  x = layers.MaxPooling2D()(x) #default 2x2\n",
        "  x = layers.Conv2D(64, 5, padding ='same')(x)\n",
        "  x = layers.BatchNormalization()(x)\n",
        "  x = keras.activations.relu(x)\n",
        "  x = layers.Conv2D(128, 3)(x)\n",
        "  x = layers.BatchNormalization()(x)\n",
        "  x = keras.activations.relu(x)\n",
        "  x = layers.Flatten()(x)\n",
        "  x = layers.Dense(64, activation = 'relu')(x)\n",
        "  outputs = layers.Dense(10)(x)\n",
        "  model_1 = keras.Model(inputs = inputs, outputs = outputs)\n",
        "  return model_1\n"
      ],
      "metadata": {
        "id": "PRNEldRzHufT"
      },
      "execution_count": null,
      "outputs": []
    },
    {
      "cell_type": "code",
      "source": [
        "model_2 = my_model()"
      ],
      "metadata": {
        "id": "OgYE0HCVL7ZE"
      },
      "execution_count": null,
      "outputs": []
    },
    {
      "cell_type": "code",
      "source": [
        "model_2.compile(\n",
        "    loss = keras.losses.SparseCategoricalCrossentropy(from_logits = True),\n",
        "    optimizer = keras.optimizers.Adam(learning_rate = 0.001),\n",
        "    metrics = [\"accuracy\"]\n",
        "\n",
        ")"
      ],
      "metadata": {
        "id": "W0WCjcYVKnsy"
      },
      "execution_count": null,
      "outputs": []
    },
    {
      "cell_type": "code",
      "source": [
        "model_2.fit(x_train, y_train, batch_size=64, epochs=10, verbose= 2)\n",
        "model_2.evaluate(x_test, y_test, batch_size=64, verbose= 2)"
      ],
      "metadata": {
        "colab": {
          "base_uri": "https://localhost:8080/"
        },
        "id": "D8VMHAUNK-Fp",
        "outputId": "92db1a8d-f854-47ce-b475-74be4faf3970"
      },
      "execution_count": null,
      "outputs": [
        {
          "output_type": "stream",
          "name": "stdout",
          "text": [
            "Epoch 1/10\n",
            "782/782 - 254s - loss: 1.7483 - accuracy: 0.3596 - 254s/epoch - 324ms/step\n",
            "Epoch 2/10\n",
            "782/782 - 251s - loss: 1.2319 - accuracy: 0.5309 - 251s/epoch - 321ms/step\n",
            "Epoch 3/10\n",
            "782/782 - 251s - loss: 1.0482 - accuracy: 0.6073 - 251s/epoch - 321ms/step\n",
            "Epoch 4/10\n",
            "782/782 - 251s - loss: 0.9340 - accuracy: 0.6509 - 251s/epoch - 321ms/step\n",
            "Epoch 5/10\n",
            "782/782 - 250s - loss: 0.8455 - accuracy: 0.6858 - 250s/epoch - 320ms/step\n",
            "Epoch 6/10\n",
            "782/782 - 251s - loss: 0.7811 - accuracy: 0.7117 - 251s/epoch - 321ms/step\n",
            "Epoch 7/10\n",
            "782/782 - 251s - loss: 0.7064 - accuracy: 0.7408 - 251s/epoch - 321ms/step\n",
            "Epoch 8/10\n",
            "782/782 - 251s - loss: 0.6454 - accuracy: 0.7624 - 251s/epoch - 321ms/step\n",
            "Epoch 9/10\n",
            "782/782 - 250s - loss: 0.5843 - accuracy: 0.7851 - 250s/epoch - 319ms/step\n",
            "Epoch 10/10\n",
            "782/782 - 251s - loss: 0.5355 - accuracy: 0.8037 - 251s/epoch - 321ms/step\n",
            "157/157 - 12s - loss: 1.1090 - accuracy: 0.6559 - 12s/epoch - 79ms/step\n"
          ]
        },
        {
          "output_type": "execute_result",
          "data": {
            "text/plain": [
              "[1.1089601516723633, 0.6559000015258789]"
            ]
          },
          "metadata": {},
          "execution_count": 78
        }
      ]
    },
    {
      "cell_type": "code",
      "source": [],
      "metadata": {
        "id": "lAkWR0bWVls1"
      },
      "execution_count": null,
      "outputs": []
    }
  ]
}