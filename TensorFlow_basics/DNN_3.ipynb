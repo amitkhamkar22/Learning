{
  "nbformat": 4,
  "nbformat_minor": 0,
  "metadata": {
    "colab": {
      "provenance": []
    },
    "kernelspec": {
      "name": "python3",
      "display_name": "Python 3"
    },
    "language_info": {
      "name": "python"
    }
  },
  "cells": [
    {
      "cell_type": "code",
      "execution_count": 1,
      "metadata": {
        "id": "3eW_4s2zWPsd"
      },
      "outputs": [],
      "source": [
        "import tensorflow as tf\n",
        "from tensorflow import keras\n",
        "from tensorflow.keras import layers\n",
        "from tensorflow.keras.datasets import mnist\n"
      ]
    },
    {
      "cell_type": "code",
      "source": [
        "(x_train, y_train), (x_test, y_test) =  mnist.load_data()"
      ],
      "metadata": {
        "id": "87o0I2PAYp7a"
      },
      "execution_count": 5,
      "outputs": []
    },
    {
      "cell_type": "code",
      "source": [
        "print(\"x_train\", x_train.shape, \"y_train\", y_train.shape)\n",
        "print(\"x_test\", x_test.shape, \"y_test\", y_test.shape)"
      ],
      "metadata": {
        "colab": {
          "base_uri": "https://localhost:8080/"
        },
        "id": "_nivqRLXGk_a",
        "outputId": "9d8c4a23-be75-49de-892d-ae6b48d10d7c"
      },
      "execution_count": 6,
      "outputs": [
        {
          "output_type": "stream",
          "name": "stdout",
          "text": [
            "x_train (60000, 28, 28) y_train (60000,)\n",
            "x_test (10000, 28, 28) y_test (10000,)\n"
          ]
        }
      ]
    },
    {
      "cell_type": "code",
      "source": [
        "x_train = x_train.reshape(-1, x_train.shape[1]*x_train.shape[2]).astype(\"float32\")/255\n",
        "x_test = x_test.reshape(-1, x_test.shape[1]*x_test.shape[2]).astype(\"float32\")/255"
      ],
      "metadata": {
        "id": "cgGfxYAaHEp6"
      },
      "execution_count": 9,
      "outputs": []
    },
    {
      "cell_type": "markdown",
      "source": [
        "###Model with Sequential API"
      ],
      "metadata": {
        "id": "Y_hj0V1qJeIa"
      }
    },
    {
      "cell_type": "code",
      "source": [
        "model = keras.Sequential(\n",
        "    [\n",
        "        layers.Dense(512, activation = 'relu'),\n",
        "        layers.Dense(256, activation = 'relu'),\n",
        "        layers.Dense(10)\n",
        "\n",
        "    ]\n",
        ")\n",
        "\n",
        "'''\n",
        "model = keras.Sequential()\n",
        "model.add(keras.Input(shape = (784)))\n",
        "model.add(layers.Dense(512, activation = 'relu'))\n",
        "print(model.summery())\n",
        "model.add(layers.Dense(256, activation = 'relu'))\n",
        "print(model.summery())\n",
        "model.add(layers.Dense(10))\n",
        "print(model.summery())\n",
        "'''"
      ],
      "metadata": {
        "id": "824rBQo9JDLy"
      },
      "execution_count": 17,
      "outputs": []
    },
    {
      "cell_type": "code",
      "source": [
        "from keras.optimizers.optimizer import learning_rate_schedule\n",
        "from keras.mixed_precision.loss_scale_optimizer import optimizer\n",
        "from tensorflow.keras.optimizers import Adam\n",
        "\n",
        "model.compile(\n",
        "    loss = keras.losses.SparseCategoricalCrossentropy(from_logits= True),\n",
        "    optimizer = keras.optimizers.Adam(learning_rate = 0.001),\n",
        "    metrics = [\"accuracy\"]\n",
        ")"
      ],
      "metadata": {
        "id": "DYCg6jaKKToy"
      },
      "execution_count": 20,
      "outputs": []
    },
    {
      "cell_type": "code",
      "source": [
        "model.fit(x_train, y_train, batch_size = 32, epochs= 5, verbose= 2)\n",
        "model.evaluate(x_test, y_test, batch_size = 32, verbose= 2)"
      ],
      "metadata": {
        "colab": {
          "base_uri": "https://localhost:8080/"
        },
        "id": "qg7JEWUOOxv2",
        "outputId": "695b818a-0859-4dad-fa4c-adc752aea870"
      },
      "execution_count": 22,
      "outputs": [
        {
          "output_type": "stream",
          "name": "stdout",
          "text": [
            "Epoch 1/5\n",
            "1875/1875 - 19s - loss: 0.1869 - accuracy: 0.9431 - 19s/epoch - 10ms/step\n",
            "Epoch 2/5\n",
            "1875/1875 - 17s - loss: 0.0801 - accuracy: 0.9755 - 17s/epoch - 9ms/step\n",
            "Epoch 3/5\n",
            "1875/1875 - 17s - loss: 0.0553 - accuracy: 0.9822 - 17s/epoch - 9ms/step\n",
            "Epoch 4/5\n",
            "1875/1875 - 15s - loss: 0.0424 - accuracy: 0.9866 - 15s/epoch - 8ms/step\n",
            "Epoch 5/5\n",
            "1875/1875 - 14s - loss: 0.0314 - accuracy: 0.9897 - 14s/epoch - 8ms/step\n",
            "313/313 - 1s - loss: 0.0802 - accuracy: 0.9796 - 891ms/epoch - 3ms/step\n"
          ]
        },
        {
          "output_type": "execute_result",
          "data": {
            "text/plain": [
              "[0.08021266758441925, 0.9796000123023987]"
            ]
          },
          "metadata": {},
          "execution_count": 22
        }
      ]
    },
    {
      "cell_type": "code",
      "source": [
        "model.summary() #if you want to see model summery before fitting the model to the data, add line keras.Input(shape = (28*28))"
      ],
      "metadata": {
        "colab": {
          "base_uri": "https://localhost:8080/"
        },
        "id": "ysaBaLaMSioh",
        "outputId": "dc059638-b9a1-456a-ac1d-b1048d18c4de"
      },
      "execution_count": 23,
      "outputs": [
        {
          "output_type": "stream",
          "name": "stdout",
          "text": [
            "Model: \"sequential\"\n",
            "_________________________________________________________________\n",
            " Layer (type)                Output Shape              Param #   \n",
            "=================================================================\n",
            " dense_1 (Dense)             (None, 512)               401920    \n",
            "                                                                 \n",
            " dense_2 (Dense)             (None, 256)               131328    \n",
            "                                                                 \n",
            " dense_3 (Dense)             (None, 10)                2570      \n",
            "                                                                 \n",
            "=================================================================\n",
            "Total params: 535,818\n",
            "Trainable params: 535,818\n",
            "Non-trainable params: 0\n",
            "_________________________________________________________________\n"
          ]
        }
      ]
    },
    {
      "cell_type": "code",
      "source": [],
      "metadata": {
        "id": "Jv-zZSwWSi1Y"
      },
      "execution_count": null,
      "outputs": []
    }
  ]
}
